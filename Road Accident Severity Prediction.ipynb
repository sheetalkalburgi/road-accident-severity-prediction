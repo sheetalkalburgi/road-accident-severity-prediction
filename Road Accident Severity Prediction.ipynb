{
 "cells": [
  {
   "cell_type": "markdown",
   "metadata": {},
   "source": [
    "## Road Accident Severity Prediction\n",
    "\n",
    "#### Team:\n",
    "   * **Hoa Nguyen**\n",
    "   * **Shailesh Krishna**\n",
    "   * **Sheetal Kalburgi**\n",
    "   \n",
    "#### Overview:\n",
    "   * Our notebook is divided into five sections.\n",
    "       * Initial Data Analysis\n",
    "       * Train/Validation/Test Split\n",
    "       * Model Building\n",
    "       * Summary\n",
    "       * Save Model"
   ]
  },
  {
   "cell_type": "code",
   "execution_count": 1,
   "metadata": {},
   "outputs": [],
   "source": [
    "import pandas as pd\n",
    "import matplotlib.pyplot as plt\n",
    "import seaborn as sns\n",
    "import itertools\n",
    "\n",
    "# ignore warnings.\n",
    "import warnings \n",
    "warnings.filterwarnings('ignore')\n",
    "\n",
    "import numpy as np\n",
    "from numpy.random import seed # To get reproducible results\n",
    "seed(18)\n",
    "\n",
    "from sklearn.model_selection import train_test_split\n",
    "from sklearn.pipeline import Pipeline\n",
    "from sklearn.preprocessing import StandardScaler\n",
    "from sklearn.svm import SVC \n",
    "from sklearn.model_selection import GridSearchCV\n",
    "from sklearn.linear_model import LogisticRegression\n",
    "from sklearn.preprocessing import LabelEncoder\n",
    "from mixed_naive_bayes import MixedNB\n",
    "from sklearn.naive_bayes import CategoricalNB\n",
    "from sklearn.svm import LinearSVC\n",
    "\n",
    "import tensorflow as tf\n",
    "from tensorflow.keras.utils import to_categorical\n",
    "from tensorflow.random import set_seed # Tensorflow seed\n",
    "set_seed(18)\n",
    "from tensorflow.keras.models import Sequential\n",
    "from tensorflow.keras.layers import Dense, Activation, Dropout\n",
    "\n",
    "# save model\n",
    "import pickle\n",
    "\n",
    "# display options\n",
    "pd.set_option('display.max_columns', None)\n",
    "pd.set_option('display.max_rows', None)"
   ]
  },
  {
   "cell_type": "markdown",
   "metadata": {},
   "source": [
    "## I. Initial Data Analysis"
   ]
  },
  {
   "cell_type": "markdown",
   "metadata": {},
   "source": [
    "#### 1. Read the data"
   ]
  },
  {
   "cell_type": "code",
   "execution_count": 2,
   "metadata": {},
   "outputs": [],
   "source": [
    "# Read the data\n",
    "data = pd.read_csv('RoadAccident.csv', encoding='utf-8')"
   ]
  },
  {
   "cell_type": "code",
   "execution_count": 3,
   "metadata": {},
   "outputs": [
    {
     "name": "stdout",
     "output_type": "stream",
     "text": [
      "There are a total of 75550 rows and 33 columns in the original dataset\n"
     ]
    }
   ],
   "source": [
    "print('There are a total of {} rows and {} columns in the original dataset'.format(data.shape[0],data.shape[1]))"
   ]
  },
  {
   "cell_type": "markdown",
   "metadata": {},
   "source": [
    "#### 2. Check for null values"
   ]
  },
  {
   "cell_type": "code",
   "execution_count": 4,
   "metadata": {},
   "outputs": [
    {
     "name": "stdout",
     "output_type": "stream",
     "text": [
      "Are there null values in the original dataset?: False\n"
     ]
    }
   ],
   "source": [
    "print(\"Are there null values in the original dataset?: {}\".format(data.isnull().values.any()))"
   ]
  },
  {
   "cell_type": "markdown",
   "metadata": {},
   "source": [
    "#### 3. Check column names"
   ]
  },
  {
   "cell_type": "code",
   "execution_count": 5,
   "metadata": {},
   "outputs": [
    {
     "name": "stdout",
     "output_type": "stream",
     "text": [
      "Column names in the dataset are: \n",
      "Accident_Index\n",
      "Latitude\n",
      "Longitude\n",
      "Region\n",
      "Urban_or_Rural_Area\n",
      "X1st_Road_Class\n",
      "Driver_IMD_Decile\n",
      "Speed_limit\n",
      "Road_Type\n",
      "Road_Surface_Conditions\n",
      "Weather\n",
      "High_Wind\n",
      "Lights\n",
      "Datetime\n",
      "Year\n",
      "Season\n",
      "Month_of_Year\n",
      "Day_of_Month\n",
      "Day_of_Week\n",
      "Hour_of_Day\n",
      "Number_of_Vehicles\n",
      "Age_of_Driver\n",
      "Age_of_Vehicle\n",
      "Junction_Detail\n",
      "Junction_Location\n",
      "X1st_Point_of_Impact\n",
      "Driver_Journey_Purpose\n",
      "Engine_CC\n",
      "Propulsion_Code\n",
      "Vehicle_Make\n",
      "Vehicle_Category\n",
      "Vehicle_Manoeuvre\n",
      "Accident_Severity\n"
     ]
    }
   ],
   "source": [
    "print('Column names in the dataset are: \\n{}'.format(('\\n').join(data.columns)))"
   ]
  },
  {
   "cell_type": "code",
   "execution_count": 6,
   "metadata": {},
   "outputs": [
    {
     "data": {
      "text/html": [
       "<div>\n",
       "<style scoped>\n",
       "    .dataframe tbody tr th:only-of-type {\n",
       "        vertical-align: middle;\n",
       "    }\n",
       "\n",
       "    .dataframe tbody tr th {\n",
       "        vertical-align: top;\n",
       "    }\n",
       "\n",
       "    .dataframe thead th {\n",
       "        text-align: right;\n",
       "    }\n",
       "</style>\n",
       "<table border=\"1\" class=\"dataframe\">\n",
       "  <thead>\n",
       "    <tr style=\"text-align: right;\">\n",
       "      <th></th>\n",
       "      <th>Accident_Index</th>\n",
       "      <th>Latitude</th>\n",
       "      <th>Longitude</th>\n",
       "      <th>Region</th>\n",
       "      <th>Urban_or_Rural_Area</th>\n",
       "      <th>X1st_Road_Class</th>\n",
       "      <th>Driver_IMD_Decile</th>\n",
       "      <th>Speed_limit</th>\n",
       "      <th>Road_Type</th>\n",
       "      <th>Road_Surface_Conditions</th>\n",
       "      <th>Weather</th>\n",
       "      <th>High_Wind</th>\n",
       "      <th>Lights</th>\n",
       "      <th>Datetime</th>\n",
       "      <th>Year</th>\n",
       "      <th>Season</th>\n",
       "      <th>Month_of_Year</th>\n",
       "      <th>Day_of_Month</th>\n",
       "      <th>Day_of_Week</th>\n",
       "      <th>Hour_of_Day</th>\n",
       "      <th>Number_of_Vehicles</th>\n",
       "      <th>Age_of_Driver</th>\n",
       "      <th>Age_of_Vehicle</th>\n",
       "      <th>Junction_Detail</th>\n",
       "      <th>Junction_Location</th>\n",
       "      <th>X1st_Point_of_Impact</th>\n",
       "      <th>Driver_Journey_Purpose</th>\n",
       "      <th>Engine_CC</th>\n",
       "      <th>Propulsion_Code</th>\n",
       "      <th>Vehicle_Make</th>\n",
       "      <th>Vehicle_Category</th>\n",
       "      <th>Vehicle_Manoeuvre</th>\n",
       "      <th>Accident_Severity</th>\n",
       "    </tr>\n",
       "  </thead>\n",
       "  <tbody>\n",
       "    <tr>\n",
       "      <th>0</th>\n",
       "      <td>1</td>\n",
       "      <td>51.495653</td>\n",
       "      <td>-0.179097</td>\n",
       "      <td>London</td>\n",
       "      <td>Urban</td>\n",
       "      <td>C</td>\n",
       "      <td>7</td>\n",
       "      <td>30</td>\n",
       "      <td>Single carriageway</td>\n",
       "      <td>Dry</td>\n",
       "      <td>Fine</td>\n",
       "      <td>No</td>\n",
       "      <td>Daylight</td>\n",
       "      <td>1/19/10 17:30</td>\n",
       "      <td>2010</td>\n",
       "      <td>4</td>\n",
       "      <td>1</td>\n",
       "      <td>19</td>\n",
       "      <td>2</td>\n",
       "      <td>0.729</td>\n",
       "      <td>2</td>\n",
       "      <td>7</td>\n",
       "      <td>8</td>\n",
       "      <td>Not at junction or within 20 metres</td>\n",
       "      <td>Not at or within 20 metres of junction</td>\n",
       "      <td>Front</td>\n",
       "      <td>Other/Not known</td>\n",
       "      <td>1781</td>\n",
       "      <td>Petrol</td>\n",
       "      <td>Audi</td>\n",
       "      <td>Car</td>\n",
       "      <td>Going ahead</td>\n",
       "      <td>Slight</td>\n",
       "    </tr>\n",
       "    <tr>\n",
       "      <th>1</th>\n",
       "      <td>2</td>\n",
       "      <td>51.499635</td>\n",
       "      <td>-0.209915</td>\n",
       "      <td>London</td>\n",
       "      <td>Urban</td>\n",
       "      <td>A</td>\n",
       "      <td>3</td>\n",
       "      <td>30</td>\n",
       "      <td>Single carriageway</td>\n",
       "      <td>Dry</td>\n",
       "      <td>Fine</td>\n",
       "      <td>No</td>\n",
       "      <td>Daylight</td>\n",
       "      <td>2/8/10 11:24</td>\n",
       "      <td>2010</td>\n",
       "      <td>4</td>\n",
       "      <td>2</td>\n",
       "      <td>8</td>\n",
       "      <td>1</td>\n",
       "      <td>0.475</td>\n",
       "      <td>2</td>\n",
       "      <td>5</td>\n",
       "      <td>2</td>\n",
       "      <td>More than 4 arms (not roundabout)</td>\n",
       "      <td>Mid Junction - on roundabout or on main road</td>\n",
       "      <td>Offside</td>\n",
       "      <td>Other/Not known</td>\n",
       "      <td>2987</td>\n",
       "      <td>Heavy oil</td>\n",
       "      <td>Mercedes</td>\n",
       "      <td>Car</td>\n",
       "      <td>Waiting to go</td>\n",
       "      <td>Slight</td>\n",
       "    </tr>\n",
       "    <tr>\n",
       "      <th>2</th>\n",
       "      <td>3</td>\n",
       "      <td>51.492515</td>\n",
       "      <td>-0.168130</td>\n",
       "      <td>London</td>\n",
       "      <td>Urban</td>\n",
       "      <td>Unclassified</td>\n",
       "      <td>5</td>\n",
       "      <td>30</td>\n",
       "      <td>Single carriageway</td>\n",
       "      <td>Dry</td>\n",
       "      <td>Fine</td>\n",
       "      <td>No</td>\n",
       "      <td>Daylight</td>\n",
       "      <td>3/3/10 06:25</td>\n",
       "      <td>2010</td>\n",
       "      <td>4</td>\n",
       "      <td>3</td>\n",
       "      <td>3</td>\n",
       "      <td>3</td>\n",
       "      <td>0.267</td>\n",
       "      <td>2</td>\n",
       "      <td>5</td>\n",
       "      <td>11</td>\n",
       "      <td>Crossroads</td>\n",
       "      <td>Mid Junction - on roundabout or on main road</td>\n",
       "      <td>Front</td>\n",
       "      <td>Journey as part of work</td>\n",
       "      <td>998</td>\n",
       "      <td>Petrol</td>\n",
       "      <td>Nissan</td>\n",
       "      <td>Car</td>\n",
       "      <td>Going ahead</td>\n",
       "      <td>Slight</td>\n",
       "    </tr>\n",
       "    <tr>\n",
       "      <th>3</th>\n",
       "      <td>4</td>\n",
       "      <td>51.504784</td>\n",
       "      <td>-0.193863</td>\n",
       "      <td>London</td>\n",
       "      <td>Urban</td>\n",
       "      <td>A</td>\n",
       "      <td>2</td>\n",
       "      <td>30</td>\n",
       "      <td>Single carriageway</td>\n",
       "      <td>Dry</td>\n",
       "      <td>Fine</td>\n",
       "      <td>No</td>\n",
       "      <td>Daylight</td>\n",
       "      <td>3/4/10 13:35</td>\n",
       "      <td>2010</td>\n",
       "      <td>4</td>\n",
       "      <td>3</td>\n",
       "      <td>4</td>\n",
       "      <td>4</td>\n",
       "      <td>0.566</td>\n",
       "      <td>2</td>\n",
       "      <td>3</td>\n",
       "      <td>5</td>\n",
       "      <td>T or staggered junction</td>\n",
       "      <td>Mid Junction - on roundabout or on main road</td>\n",
       "      <td>Offside</td>\n",
       "      <td>Journey as part of work</td>\n",
       "      <td>2179</td>\n",
       "      <td>Heavy oil</td>\n",
       "      <td>Citroen</td>\n",
       "      <td>Van</td>\n",
       "      <td>Turning right</td>\n",
       "      <td>Slight</td>\n",
       "    </tr>\n",
       "    <tr>\n",
       "      <th>4</th>\n",
       "      <td>5</td>\n",
       "      <td>51.522072</td>\n",
       "      <td>-0.212927</td>\n",
       "      <td>London</td>\n",
       "      <td>Urban</td>\n",
       "      <td>B</td>\n",
       "      <td>3</td>\n",
       "      <td>30</td>\n",
       "      <td>Single carriageway</td>\n",
       "      <td>Wet or damp</td>\n",
       "      <td>Fine</td>\n",
       "      <td>No</td>\n",
       "      <td>Daylight</td>\n",
       "      <td>3/12/10 16:05</td>\n",
       "      <td>2010</td>\n",
       "      <td>4</td>\n",
       "      <td>3</td>\n",
       "      <td>12</td>\n",
       "      <td>5</td>\n",
       "      <td>0.670</td>\n",
       "      <td>1</td>\n",
       "      <td>4</td>\n",
       "      <td>4</td>\n",
       "      <td>T or staggered junction</td>\n",
       "      <td>Approaching junction or waiting/parked at junc...</td>\n",
       "      <td>Nearside</td>\n",
       "      <td>Journey as part of work</td>\n",
       "      <td>2198</td>\n",
       "      <td>Heavy oil</td>\n",
       "      <td>Ford</td>\n",
       "      <td>Van</td>\n",
       "      <td>Overtaking</td>\n",
       "      <td>Slight</td>\n",
       "    </tr>\n",
       "  </tbody>\n",
       "</table>\n",
       "</div>"
      ],
      "text/plain": [
       "   Accident_Index   Latitude  Longitude  Region Urban_or_Rural_Area  \\\n",
       "0               1  51.495653  -0.179097  London               Urban   \n",
       "1               2  51.499635  -0.209915  London               Urban   \n",
       "2               3  51.492515  -0.168130  London               Urban   \n",
       "3               4  51.504784  -0.193863  London               Urban   \n",
       "4               5  51.522072  -0.212927  London               Urban   \n",
       "\n",
       "  X1st_Road_Class  Driver_IMD_Decile  Speed_limit           Road_Type  \\\n",
       "0               C                  7           30  Single carriageway   \n",
       "1               A                  3           30  Single carriageway   \n",
       "2    Unclassified                  5           30  Single carriageway   \n",
       "3               A                  2           30  Single carriageway   \n",
       "4               B                  3           30  Single carriageway   \n",
       "\n",
       "  Road_Surface_Conditions Weather High_Wind    Lights       Datetime  Year  \\\n",
       "0                     Dry    Fine        No  Daylight  1/19/10 17:30  2010   \n",
       "1                     Dry    Fine        No  Daylight   2/8/10 11:24  2010   \n",
       "2                     Dry    Fine        No  Daylight   3/3/10 06:25  2010   \n",
       "3                     Dry    Fine        No  Daylight   3/4/10 13:35  2010   \n",
       "4             Wet or damp    Fine        No  Daylight  3/12/10 16:05  2010   \n",
       "\n",
       "   Season  Month_of_Year  Day_of_Month  Day_of_Week  Hour_of_Day  \\\n",
       "0       4              1            19            2        0.729   \n",
       "1       4              2             8            1        0.475   \n",
       "2       4              3             3            3        0.267   \n",
       "3       4              3             4            4        0.566   \n",
       "4       4              3            12            5        0.670   \n",
       "\n",
       "   Number_of_Vehicles  Age_of_Driver  Age_of_Vehicle  \\\n",
       "0                   2              7               8   \n",
       "1                   2              5               2   \n",
       "2                   2              5              11   \n",
       "3                   2              3               5   \n",
       "4                   1              4               4   \n",
       "\n",
       "                       Junction_Detail  \\\n",
       "0  Not at junction or within 20 metres   \n",
       "1    More than 4 arms (not roundabout)   \n",
       "2                           Crossroads   \n",
       "3              T or staggered junction   \n",
       "4              T or staggered junction   \n",
       "\n",
       "                                   Junction_Location X1st_Point_of_Impact  \\\n",
       "0             Not at or within 20 metres of junction                Front   \n",
       "1       Mid Junction - on roundabout or on main road              Offside   \n",
       "2       Mid Junction - on roundabout or on main road                Front   \n",
       "3       Mid Junction - on roundabout or on main road              Offside   \n",
       "4  Approaching junction or waiting/parked at junc...             Nearside   \n",
       "\n",
       "    Driver_Journey_Purpose  Engine_CC Propulsion_Code Vehicle_Make  \\\n",
       "0          Other/Not known       1781          Petrol         Audi   \n",
       "1          Other/Not known       2987       Heavy oil     Mercedes   \n",
       "2  Journey as part of work        998          Petrol       Nissan   \n",
       "3  Journey as part of work       2179       Heavy oil      Citroen   \n",
       "4  Journey as part of work       2198       Heavy oil         Ford   \n",
       "\n",
       "  Vehicle_Category Vehicle_Manoeuvre Accident_Severity  \n",
       "0              Car       Going ahead            Slight  \n",
       "1              Car     Waiting to go            Slight  \n",
       "2              Car       Going ahead            Slight  \n",
       "3              Van     Turning right            Slight  \n",
       "4              Van        Overtaking            Slight  "
      ]
     },
     "execution_count": 6,
     "metadata": {},
     "output_type": "execute_result"
    }
   ],
   "source": [
    "data.head()"
   ]
  },
  {
   "cell_type": "markdown",
   "metadata": {},
   "source": [
    "#### 4. Check data types "
   ]
  },
  {
   "cell_type": "code",
   "execution_count": 7,
   "metadata": {},
   "outputs": [
    {
     "name": "stdout",
     "output_type": "stream",
     "text": [
      "The dataset contains 3 different data types and they are: object, int64, float64\n"
     ]
    }
   ],
   "source": [
    "# Data types\n",
    "column_datatypes = set()\n",
    "for column in data.columns:\n",
    "    column_datatypes.add(str(data[column].dtype))\n",
    "print(\"The dataset contains {} different data types and they are: {}\".format(len(column_datatypes), \", \".join(column_datatypes)))"
   ]
  },
  {
   "cell_type": "markdown",
   "metadata": {},
   "source": [
    "#### 5. Define X and y"
   ]
  },
  {
   "cell_type": "code",
   "execution_count": 8,
   "metadata": {},
   "outputs": [],
   "source": [
    "X = data.drop(columns='Accident_Severity')\n",
    "y = data['Accident_Severity']"
   ]
  },
  {
   "cell_type": "markdown",
   "metadata": {},
   "source": [
    "#### 6. Check feature distribution"
   ]
  },
  {
   "cell_type": "code",
   "execution_count": 9,
   "metadata": {},
   "outputs": [],
   "source": [
    "numerical_features = list()\n",
    "categorical_features = list()\n",
    "for column in X.columns:\n",
    "    # In the dataset we only have float and int64.\n",
    "    if (data[column].dtype == 'float64' or data[column].dtype == 'int64'):\n",
    "        numerical_features.append(column)\n",
    "    # Categorical\n",
    "    elif (data[column].dtype == 'object'):\n",
    "        categorical_features.append(column)"
   ]
  },
  {
   "cell_type": "markdown",
   "metadata": {},
   "source": [
    "##### 6.a. Numerical Features"
   ]
  },
  {
   "cell_type": "code",
   "execution_count": 10,
   "metadata": {},
   "outputs": [
    {
     "name": "stdout",
     "output_type": "stream",
     "text": [
      "There are a total of 15 numerical features in the dataset.\n"
     ]
    }
   ],
   "source": [
    "print('There are a total of {} numerical features in the dataset.'.format(len(numerical_features)))"
   ]
  },
  {
   "cell_type": "code",
   "execution_count": 11,
   "metadata": {},
   "outputs": [],
   "source": [
    "X_num_total = X[numerical_features]"
   ]
  },
  {
   "cell_type": "code",
   "execution_count": 12,
   "metadata": {},
   "outputs": [
    {
     "data": {
      "image/png": "[encoded data removed]",
      "text/plain": [
       "<Figure size 1440x720 with 16 Axes>"
      ]
     },
     "metadata": {
      "needs_background": "light"
     },
     "output_type": "display_data"
    }
   ],
   "source": [
    "X_num_total.hist(bins=60,figsize=(20, 10))\n",
    "plt.show()"
   ]
  },
  {
   "cell_type": "code",
   "execution_count": 13,
   "metadata": {},
   "outputs": [
    {
     "name": "stdout",
     "output_type": "stream",
     "text": [
      "Uniques values of Accident Index column are: 75550\n"
     ]
    }
   ],
   "source": [
    "# Check accident index values\n",
    "print('Uniques values of Accident Index column are: {}'.format(X_num_total['Accident_Index'].nunique()))"
   ]
  },
  {
   "cell_type": "code",
   "execution_count": 14,
   "metadata": {},
   "outputs": [
    {
     "data": {
      "image/png": "[encoded data removed]",
      "text/plain": [
       "<Figure size 1080x576 with 2 Axes>"
      ]
     },
     "metadata": {
      "needs_background": "light"
     },
     "output_type": "display_data"
    }
   ],
   "source": [
    "# Checking the correlation between the numerical features\n",
    "plt.subplots(figsize=(15,8))\n",
    "sns.heatmap(X_num_total.corr(), cmap=\"YlGnBu\", annot=True)\n",
    "plt.title('Correlation Matrix')\n",
    "plt.show()"
   ]
  },
  {
   "cell_type": "markdown",
   "metadata": {},
   "source": [
    "##### 6.b. Categorical Features"
   ]
  },
  {
   "cell_type": "code",
   "execution_count": 15,
   "metadata": {},
   "outputs": [
    {
     "name": "stdout",
     "output_type": "stream",
     "text": [
      "There are a total of 17 categorical features in the dataset.\n"
     ]
    }
   ],
   "source": [
    "print('There are a total of {} categorical features in the dataset.'.format(len(categorical_features)))"
   ]
  },
  {
   "cell_type": "code",
   "execution_count": 16,
   "metadata": {},
   "outputs": [],
   "source": [
    "X_cat_total = X[categorical_features]"
   ]
  },
  {
   "cell_type": "code",
   "execution_count": 17,
   "metadata": {},
   "outputs": [
    {
     "name": "stdout",
     "output_type": "stream",
     "text": [
      "Unique values for each categorical column are:\n",
      " Region                        11\n",
      "Urban_or_Rural_Area            2\n",
      "X1st_Road_Class                6\n",
      "Road_Type                      5\n",
      "Road_Surface_Conditions        5\n",
      "Weather                        6\n",
      "High_Wind                      2\n",
      "Lights                         4\n",
      "Datetime                   67926\n",
      "Junction_Detail                8\n",
      "Junction_Location              9\n",
      "X1st_Point_of_Impact           5\n",
      "Driver_Journey_Purpose         5\n",
      "Propulsion_Code                2\n",
      "Vehicle_Make                  25\n",
      "Vehicle_Category               6\n",
      "Vehicle_Manoeuvre             11\n",
      "dtype: int64\n"
     ]
    }
   ],
   "source": [
    "print('Unique values for each categorical column are:\\n {}'.format(X_cat_total.nunique()))"
   ]
  },
  {
   "cell_type": "markdown",
   "metadata": {},
   "source": [
    "* **From the above, we can infer that the numerical features comprise of both the continuous and discrete features**.\n",
    "* **Accident_Index and Datetime columns in the dataset serve as an id value for the records and can be excluded from the feature set**."
   ]
  },
  {
   "cell_type": "markdown",
   "metadata": {},
   "source": [
    "#### 7. Drop Accident_Index and Datetime columns from X"
   ]
  },
  {
   "cell_type": "code",
   "execution_count": 18,
   "metadata": {},
   "outputs": [],
   "source": [
    "X = X.drop(columns=['Accident_Index','Datetime'])"
   ]
  },
  {
   "cell_type": "code",
   "execution_count": 19,
   "metadata": {},
   "outputs": [
    {
     "name": "stdout",
     "output_type": "stream",
     "text": [
      "Total of number of features in the cleaned dataset are: 30\n"
     ]
    }
   ],
   "source": [
    "print('Total of number of features in the cleaned dataset are: {}'.format(X.shape[1]))"
   ]
  },
  {
   "cell_type": "markdown",
   "metadata": {},
   "source": [
    "#### 8. Refresh the list of numerical and categorical features. \n",
    "   * Add discrete numerical features to categorical features list.\n",
    "   * Remove discrete values from numerical features list."
   ]
  },
  {
   "cell_type": "code",
   "execution_count": 20,
   "metadata": {},
   "outputs": [],
   "source": [
    "discrete_features = ['Driver_IMD_Decile','Speed_limit','Year','Season','Month_of_Year','Day_of_Month','Day_of_Week','Number_of_Vehicles','Age_of_Driver']"
   ]
  },
  {
   "cell_type": "code",
   "execution_count": 21,
   "metadata": {},
   "outputs": [],
   "source": [
    "for item in discrete_features:\n",
    "    numerical_features.remove(item)\n",
    "    categorical_features.append(item)"
   ]
  },
  {
   "cell_type": "code",
   "execution_count": 22,
   "metadata": {},
   "outputs": [],
   "source": [
    "# remove Datetime and Accident_Index from list.\n",
    "numerical_features.remove('Accident_Index')\n",
    "categorical_features.remove('Datetime')"
   ]
  },
  {
   "cell_type": "code",
   "execution_count": 23,
   "metadata": {},
   "outputs": [
    {
     "name": "stdout",
     "output_type": "stream",
     "text": [
      "The total of numerical features left are: 5\n"
     ]
    }
   ],
   "source": [
    "print('The total of numerical features left are: {}'.format(len(numerical_features)))"
   ]
  },
  {
   "cell_type": "code",
   "execution_count": 24,
   "metadata": {},
   "outputs": [
    {
     "name": "stdout",
     "output_type": "stream",
     "text": [
      "The total of categorical features are: 25\n"
     ]
    }
   ],
   "source": [
    "print('The total of categorical features are: {}'.format(len(categorical_features)))"
   ]
  },
  {
   "cell_type": "markdown",
   "metadata": {},
   "source": [
    "## II. Train/Test Split"
   ]
  },
  {
   "cell_type": "markdown",
   "metadata": {},
   "source": [
    "###### 1. Label Encode categorical features and y."
   ]
  },
  {
   "cell_type": "code",
   "execution_count": 25,
   "metadata": {},
   "outputs": [],
   "source": [
    "# categorical feature list\n",
    "categorical_features_index = list()\n",
    "# Encode categorical features, get the indexes of categorical \n",
    "for i in categorical_features:\n",
    "    categorical_features_index.append(X.columns.get_loc(i))\n",
    "    X[i] = LabelEncoder().fit_transform(X[i])"
   ]
  },
  {
   "cell_type": "code",
   "execution_count": 26,
   "metadata": {},
   "outputs": [
    {
     "data": {
      "text/html": [
       "<div>\n",
       "<style scoped>\n",
       "    .dataframe tbody tr th:only-of-type {\n",
       "        vertical-align: middle;\n",
       "    }\n",
       "\n",
       "    .dataframe tbody tr th {\n",
       "        vertical-align: top;\n",
       "    }\n",
       "\n",
       "    .dataframe thead th {\n",
       "        text-align: right;\n",
       "    }\n",
       "</style>\n",
       "<table border=\"1\" class=\"dataframe\">\n",
       "  <thead>\n",
       "    <tr style=\"text-align: right;\">\n",
       "      <th></th>\n",
       "      <th>Latitude</th>\n",
       "      <th>Longitude</th>\n",
       "      <th>Region</th>\n",
       "      <th>Urban_or_Rural_Area</th>\n",
       "      <th>X1st_Road_Class</th>\n",
       "      <th>Driver_IMD_Decile</th>\n",
       "      <th>Speed_limit</th>\n",
       "      <th>Road_Type</th>\n",
       "      <th>Road_Surface_Conditions</th>\n",
       "      <th>Weather</th>\n",
       "      <th>High_Wind</th>\n",
       "      <th>Lights</th>\n",
       "      <th>Year</th>\n",
       "      <th>Season</th>\n",
       "      <th>Month_of_Year</th>\n",
       "      <th>Day_of_Month</th>\n",
       "      <th>Day_of_Week</th>\n",
       "      <th>Hour_of_Day</th>\n",
       "      <th>Number_of_Vehicles</th>\n",
       "      <th>Age_of_Driver</th>\n",
       "      <th>Age_of_Vehicle</th>\n",
       "      <th>Junction_Detail</th>\n",
       "      <th>Junction_Location</th>\n",
       "      <th>X1st_Point_of_Impact</th>\n",
       "      <th>Driver_Journey_Purpose</th>\n",
       "      <th>Engine_CC</th>\n",
       "      <th>Propulsion_Code</th>\n",
       "      <th>Vehicle_Make</th>\n",
       "      <th>Vehicle_Category</th>\n",
       "      <th>Vehicle_Manoeuvre</th>\n",
       "    </tr>\n",
       "  </thead>\n",
       "  <tbody>\n",
       "    <tr>\n",
       "      <th>0</th>\n",
       "      <td>51.495653</td>\n",
       "      <td>-0.179097</td>\n",
       "      <td>2</td>\n",
       "      <td>1</td>\n",
       "      <td>3</td>\n",
       "      <td>6</td>\n",
       "      <td>1</td>\n",
       "      <td>3</td>\n",
       "      <td>0</td>\n",
       "      <td>0</td>\n",
       "      <td>0</td>\n",
       "      <td>3</td>\n",
       "      <td>0</td>\n",
       "      <td>3</td>\n",
       "      <td>0</td>\n",
       "      <td>18</td>\n",
       "      <td>1</td>\n",
       "      <td>0.729</td>\n",
       "      <td>1</td>\n",
       "      <td>6</td>\n",
       "      <td>8</td>\n",
       "      <td>2</td>\n",
       "      <td>8</td>\n",
       "      <td>2</td>\n",
       "      <td>2</td>\n",
       "      <td>1781</td>\n",
       "      <td>1</td>\n",
       "      <td>0</td>\n",
       "      <td>1</td>\n",
       "      <td>1</td>\n",
       "    </tr>\n",
       "    <tr>\n",
       "      <th>1</th>\n",
       "      <td>51.499635</td>\n",
       "      <td>-0.209915</td>\n",
       "      <td>2</td>\n",
       "      <td>1</td>\n",
       "      <td>0</td>\n",
       "      <td>2</td>\n",
       "      <td>1</td>\n",
       "      <td>3</td>\n",
       "      <td>0</td>\n",
       "      <td>0</td>\n",
       "      <td>0</td>\n",
       "      <td>3</td>\n",
       "      <td>0</td>\n",
       "      <td>3</td>\n",
       "      <td>1</td>\n",
       "      <td>7</td>\n",
       "      <td>0</td>\n",
       "      <td>0.475</td>\n",
       "      <td>1</td>\n",
       "      <td>4</td>\n",
       "      <td>2</td>\n",
       "      <td>1</td>\n",
       "      <td>7</td>\n",
       "      <td>4</td>\n",
       "      <td>2</td>\n",
       "      <td>2987</td>\n",
       "      <td>0</td>\n",
       "      <td>10</td>\n",
       "      <td>1</td>\n",
       "      <td>10</td>\n",
       "    </tr>\n",
       "    <tr>\n",
       "      <th>2</th>\n",
       "      <td>51.492515</td>\n",
       "      <td>-0.168130</td>\n",
       "      <td>2</td>\n",
       "      <td>1</td>\n",
       "      <td>5</td>\n",
       "      <td>4</td>\n",
       "      <td>1</td>\n",
       "      <td>3</td>\n",
       "      <td>0</td>\n",
       "      <td>0</td>\n",
       "      <td>0</td>\n",
       "      <td>3</td>\n",
       "      <td>0</td>\n",
       "      <td>3</td>\n",
       "      <td>2</td>\n",
       "      <td>2</td>\n",
       "      <td>2</td>\n",
       "      <td>0.267</td>\n",
       "      <td>1</td>\n",
       "      <td>4</td>\n",
       "      <td>11</td>\n",
       "      <td>0</td>\n",
       "      <td>7</td>\n",
       "      <td>2</td>\n",
       "      <td>1</td>\n",
       "      <td>998</td>\n",
       "      <td>1</td>\n",
       "      <td>12</td>\n",
       "      <td>1</td>\n",
       "      <td>1</td>\n",
       "    </tr>\n",
       "    <tr>\n",
       "      <th>3</th>\n",
       "      <td>51.504784</td>\n",
       "      <td>-0.193863</td>\n",
       "      <td>2</td>\n",
       "      <td>1</td>\n",
       "      <td>0</td>\n",
       "      <td>1</td>\n",
       "      <td>1</td>\n",
       "      <td>3</td>\n",
       "      <td>0</td>\n",
       "      <td>0</td>\n",
       "      <td>0</td>\n",
       "      <td>3</td>\n",
       "      <td>0</td>\n",
       "      <td>3</td>\n",
       "      <td>2</td>\n",
       "      <td>3</td>\n",
       "      <td>3</td>\n",
       "      <td>0.566</td>\n",
       "      <td>1</td>\n",
       "      <td>2</td>\n",
       "      <td>5</td>\n",
       "      <td>7</td>\n",
       "      <td>7</td>\n",
       "      <td>4</td>\n",
       "      <td>1</td>\n",
       "      <td>2179</td>\n",
       "      <td>0</td>\n",
       "      <td>2</td>\n",
       "      <td>5</td>\n",
       "      <td>8</td>\n",
       "    </tr>\n",
       "    <tr>\n",
       "      <th>4</th>\n",
       "      <td>51.522072</td>\n",
       "      <td>-0.212927</td>\n",
       "      <td>2</td>\n",
       "      <td>1</td>\n",
       "      <td>2</td>\n",
       "      <td>2</td>\n",
       "      <td>1</td>\n",
       "      <td>3</td>\n",
       "      <td>4</td>\n",
       "      <td>0</td>\n",
       "      <td>0</td>\n",
       "      <td>3</td>\n",
       "      <td>0</td>\n",
       "      <td>3</td>\n",
       "      <td>2</td>\n",
       "      <td>11</td>\n",
       "      <td>4</td>\n",
       "      <td>0.670</td>\n",
       "      <td>0</td>\n",
       "      <td>3</td>\n",
       "      <td>4</td>\n",
       "      <td>7</td>\n",
       "      <td>0</td>\n",
       "      <td>3</td>\n",
       "      <td>1</td>\n",
       "      <td>2198</td>\n",
       "      <td>0</td>\n",
       "      <td>4</td>\n",
       "      <td>5</td>\n",
       "      <td>3</td>\n",
       "    </tr>\n",
       "  </tbody>\n",
       "</table>\n",
       "</div>"
      ],
      "text/plain": [
       "    Latitude  Longitude  Region  Urban_or_Rural_Area  X1st_Road_Class  \\\n",
       "0  51.495653  -0.179097       2                    1                3   \n",
       "1  51.499635  -0.209915       2                    1                0   \n",
       "2  51.492515  -0.168130       2                    1                5   \n",
       "3  51.504784  -0.193863       2                    1                0   \n",
       "4  51.522072  -0.212927       2                    1                2   \n",
       "\n",
       "   Driver_IMD_Decile  Speed_limit  Road_Type  Road_Surface_Conditions  \\\n",
       "0                  6            1          3                        0   \n",
       "1                  2            1          3                        0   \n",
       "2                  4            1          3                        0   \n",
       "3                  1            1          3                        0   \n",
       "4                  2            1          3                        4   \n",
       "\n",
       "   Weather  High_Wind  Lights  Year  Season  Month_of_Year  Day_of_Month  \\\n",
       "0        0          0       3     0       3              0            18   \n",
       "1        0          0       3     0       3              1             7   \n",
       "2        0          0       3     0       3              2             2   \n",
       "3        0          0       3     0       3              2             3   \n",
       "4        0          0       3     0       3              2            11   \n",
       "\n",
       "   Day_of_Week  Hour_of_Day  Number_of_Vehicles  Age_of_Driver  \\\n",
       "0            1        0.729                   1              6   \n",
       "1            0        0.475                   1              4   \n",
       "2            2        0.267                   1              4   \n",
       "3            3        0.566                   1              2   \n",
       "4            4        0.670                   0              3   \n",
       "\n",
       "   Age_of_Vehicle  Junction_Detail  Junction_Location  X1st_Point_of_Impact  \\\n",
       "0               8                2                  8                     2   \n",
       "1               2                1                  7                     4   \n",
       "2              11                0                  7                     2   \n",
       "3               5                7                  7                     4   \n",
       "4               4                7                  0                     3   \n",
       "\n",
       "   Driver_Journey_Purpose  Engine_CC  Propulsion_Code  Vehicle_Make  \\\n",
       "0                       2       1781                1             0   \n",
       "1                       2       2987                0            10   \n",
       "2                       1        998                1            12   \n",
       "3                       1       2179                0             2   \n",
       "4                       1       2198                0             4   \n",
       "\n",
       "   Vehicle_Category  Vehicle_Manoeuvre  \n",
       "0                 1                  1  \n",
       "1                 1                 10  \n",
       "2                 1                  1  \n",
       "3                 5                  8  \n",
       "4                 5                  3  "
      ]
     },
     "execution_count": 26,
     "metadata": {},
     "output_type": "execute_result"
    }
   ],
   "source": [
    "X.head()"
   ]
  },
  {
   "cell_type": "code",
   "execution_count": 27,
   "metadata": {},
   "outputs": [],
   "source": [
    " y = LabelEncoder().fit_transform(y)"
   ]
  },
  {
   "cell_type": "markdown",
   "metadata": {},
   "source": [
    "###### 2. Train/Test Split\n",
    "* Split the data into train and test set. (75-25 split ratio)\n",
    "* Split the training set into training and validation sets. For the entire dataset we did a 60-15-25 split."
   ]
  },
  {
   "cell_type": "code",
   "execution_count": 28,
   "metadata": {},
   "outputs": [],
   "source": [
    "X_train_valid, X_test, y_train_valid, y_test = train_test_split(X, y, test_size = 0.25, random_state = 18)"
   ]
  },
  {
   "cell_type": "code",
   "execution_count": 29,
   "metadata": {},
   "outputs": [],
   "source": [
    "X_train, X_valid, y_train, y_valid = train_test_split(X_train_valid, y_train_valid, test_size = 0.2, random_state = 18)"
   ]
  },
  {
   "cell_type": "markdown",
   "metadata": {},
   "source": [
    "## III. Model Building"
   ]
  },
  {
   "cell_type": "markdown",
   "metadata": {},
   "source": [
    "### Model 1: Using SVC"
   ]
  },
  {
   "cell_type": "markdown",
   "metadata": {},
   "source": [
    "###### 1. Define hyperparameters\n",
    "* Tuning C and gamma value"
   ]
  },
  {
   "cell_type": "code",
   "execution_count": 30,
   "metadata": {},
   "outputs": [
    {
     "name": "stdout",
     "output_type": "stream",
     "text": [
      "Total number of hyperparameter pairs for SVC are: 24\n"
     ]
    }
   ],
   "source": [
    "# Creating the combinations for different values of epsilon and min_samples.\n",
    "svc_C = [0.1,1,10,20]\n",
    "svc_gamma = [0.1,0.5,1,2,3,4]\n",
    "total_svc_pairs = list(itertools.product(svc_C, svc_gamma))\n",
    "print('Total number of hyperparameter pairs for SVC are: {}'.format(len(total_svc_pairs)))"
   ]
  },
  {
   "cell_type": "markdown",
   "metadata": {},
   "source": [
    "###### 2. Determine the best pair"
   ]
  },
  {
   "cell_type": "code",
   "execution_count": 31,
   "metadata": {},
   "outputs": [],
   "source": [
    "svc_validation_misclassification_rates = list()\n",
    "for pair in total_svc_pairs:\n",
    "    svc = SVC(kernel='rbf', random_state=18,C=pair[0], gamma=pair[1])\n",
    "    svc.fit(X_train,y_train)\n",
    "    y_hat_valid = svc.predict(X_valid)\n",
    "    svc_validation_misclassification_rates.append(sum(y_hat_valid != y_valid)/ len(y_valid))"
   ]
  },
  {
   "cell_type": "code",
   "execution_count": 32,
   "metadata": {},
   "outputs": [
    {
     "name": "stdout",
     "output_type": "stream",
     "text": [
      "The best K value is: 13\n"
     ]
    }
   ],
   "source": [
    "# We are using misclassification rate hence to determine the bestK we need to use argmin instead of argmax.\n",
    "bestK = np.argmin(svc_validation_misclassification_rates) + 1\n",
    "print(\"The best K value is: {}\".format(bestK))"
   ]
  },
  {
   "cell_type": "markdown",
   "metadata": {},
   "source": [
    "###### 3. Refit the model with the best parameters"
   ]
  },
  {
   "cell_type": "code",
   "execution_count": 33,
   "metadata": {},
   "outputs": [
    {
     "data": {
      "text/plain": [
       "SVC(C=10, gamma=0.5, random_state=18)"
      ]
     },
     "execution_count": 33,
     "metadata": {},
     "output_type": "execute_result"
    }
   ],
   "source": [
    "svc_best_model = SVC(kernel='rbf', random_state=18, C=total_svc_pairs[bestK][0], gamma=total_svc_pairs[bestK][1])\n",
    "svc_best_model.fit(X_train_valid,y_train_valid)"
   ]
  },
  {
   "cell_type": "markdown",
   "metadata": {},
   "source": [
    "###### 4. Calculate the classification accuracy on the test set"
   ]
  },
  {
   "cell_type": "code",
   "execution_count": 34,
   "metadata": {},
   "outputs": [
    {
     "name": "stdout",
     "output_type": "stream",
     "text": [
      "The classification accuracy on the test set for SVC using rbf kernel is: 75.06%\n"
     ]
    }
   ],
   "source": [
    "print(\"The classification accuracy on the test set for SVC using rbf kernel is: {:.2%}\".format(np.mean(svc_best_model.predict(X_test) == y_test)))"
   ]
  },
  {
   "cell_type": "markdown",
   "metadata": {},
   "source": [
    "#### SVC Observations:\n",
    "* After tuning the parameters, the best value for C=10 and gamma=0.5.\n",
    "* The classification accuracy on the test set for SVC is: 75.06%.\n",
    "* The execution time of SVC on our dataset is extremely large. Running a GridSearchCV with cv=10 also resulted in the same classification accuracy on the test set. "
   ]
  },
  {
   "cell_type": "markdown",
   "metadata": {},
   "source": [
    "### Model 2: Using Naïve Bayes\n",
    "\n",
    "#### A. Mixed Naïve Bayes"
   ]
  },
  {
   "cell_type": "markdown",
   "metadata": {},
   "source": [
    "###### 1. Define hyperparameters\n",
    "* Tuning alpha value"
   ]
  },
  {
   "cell_type": "code",
   "execution_count": 35,
   "metadata": {},
   "outputs": [],
   "source": [
    "mixed_nb_alpha = [1.0,1.5,2.0,2.5,3.0,3.5,4.0]"
   ]
  },
  {
   "cell_type": "markdown",
   "metadata": {},
   "source": [
    "###### 2. Determine the best alpha value"
   ]
  },
  {
   "cell_type": "code",
   "execution_count": 36,
   "metadata": {},
   "outputs": [
    {
     "name": "stdout",
     "output_type": "stream",
     "text": [
      "[11  2  6  5  5  6  2  4  8  9  5  5  2 25  6 11 10  6  5  4 12 31  7  5\n",
      "  8]\n",
      "[11  2  6  5  5  6  2  4  8  9  5  5  2 25  6 11 10  6  5  4 12 31  7  5\n",
      "  8]\n",
      "[11  2  6  5  5  6  2  4  8  9  5  5  2 25  6 11 10  6  5  4 12 31  7  5\n",
      "  8]\n",
      "[11  2  6  5  5  6  2  4  8  9  5  5  2 25  6 11 10  6  5  4 12 31  7  5\n",
      "  8]\n",
      "[11  2  6  5  5  6  2  4  8  9  5  5  2 25  6 11 10  6  5  4 12 31  7  5\n",
      "  8]\n",
      "[11  2  6  5  5  6  2  4  8  9  5  5  2 25  6 11 10  6  5  4 12 31  7  5\n",
      "  8]\n",
      "[11  2  6  5  5  6  2  4  8  9  5  5  2 25  6 11 10  6  5  4 12 31  7  5\n",
      "  8]\n"
     ]
    }
   ],
   "source": [
    "mixedNB_validation_misclassification_rates = list()\n",
    "for alpha in mixed_nb_alpha:\n",
    "    mixedNB = MixedNB(categorical_features=categorical_features_index, alpha=alpha)\n",
    "    mixedNB.fit(X_train,y_train)\n",
    "    y_hat_valid = mixedNB.predict(X_valid)\n",
    "    mixedNB_validation_misclassification_rates.append(sum(y_hat_valid != y_valid)/ len(y_valid))"
   ]
  },
  {
   "cell_type": "code",
   "execution_count": 37,
   "metadata": {},
   "outputs": [
    {
     "name": "stdout",
     "output_type": "stream",
     "text": [
      "The best K value is: 6\n"
     ]
    }
   ],
   "source": [
    "# We are using misclassification rate hence to determine the bestK we need to use argmin instead of argmax.\n",
    "bestK_mixedNB = np.argmin(mixedNB_validation_misclassification_rates) + 1\n",
    "print(\"The best K value is: {}\".format(bestK_mixedNB))"
   ]
  },
  {
   "cell_type": "code",
   "execution_count": 38,
   "metadata": {},
   "outputs": [
    {
     "name": "stdout",
     "output_type": "stream",
     "text": [
      "The best alpha value for mixed Naïve Bayes is: 4.0\n"
     ]
    }
   ],
   "source": [
    "print('The best alpha value for mixed Naïve Bayes is: {}'.format(mixed_nb_alpha[bestK_mixedNB]))"
   ]
  },
  {
   "cell_type": "markdown",
   "metadata": {},
   "source": [
    "###### 3. Refit the model with the best parameters"
   ]
  },
  {
   "cell_type": "code",
   "execution_count": 39,
   "metadata": {},
   "outputs": [
    {
     "name": "stdout",
     "output_type": "stream",
     "text": [
      "[11  2  6  5  5  6  2  4  8  9  5  5  2 25  6 11 10  6  5  4 12 31  7  5\n",
      "  8]\n"
     ]
    },
    {
     "data": {
      "text/plain": [
       "MixedNB(alpha=4.0, var_smoothing=1e-09)"
      ]
     },
     "execution_count": 39,
     "metadata": {},
     "output_type": "execute_result"
    }
   ],
   "source": [
    "mixedNB_best_model = MixedNB(categorical_features=categorical_features_index, alpha=mixed_nb_alpha[bestK_mixedNB])\n",
    "mixedNB_best_model.fit(X_train_valid,y_train_valid)"
   ]
  },
  {
   "cell_type": "markdown",
   "metadata": {},
   "source": [
    "###### 4. Calculate the classification accuracy on the test set"
   ]
  },
  {
   "cell_type": "code",
   "execution_count": 40,
   "metadata": {},
   "outputs": [
    {
     "name": "stdout",
     "output_type": "stream",
     "text": [
      "The classification accuracy on the test set for mixed Naïve Bayes is: 73.03%\n"
     ]
    }
   ],
   "source": [
    "print(\"The classification accuracy on the test set for mixed Naïve Bayes is: {:.2%}\".format(np.mean(mixedNB_best_model.predict(X_test) == y_test)))"
   ]
  },
  {
   "cell_type": "markdown",
   "metadata": {},
   "source": [
    "#### B. Categorical Naïve Bayes"
   ]
  },
  {
   "cell_type": "markdown",
   "metadata": {},
   "source": [
    "###### 1. Define the pipeline"
   ]
  },
  {
   "cell_type": "code",
   "execution_count": 41,
   "metadata": {},
   "outputs": [],
   "source": [
    "# Define the pipeline\n",
    "nbc_pipeline = Pipeline([\n",
    "    ('categoricalnb', CategoricalNB())\n",
    "])\n",
    "nbc_parameters = {\n",
    "    'categoricalnb__alpha': [1.0,1.5,2.0,2.5,3.0,3.5,4.0] # values smaller than 1 give numerical error.\n",
    "}"
   ]
  },
  {
   "cell_type": "code",
   "execution_count": 42,
   "metadata": {},
   "outputs": [],
   "source": [
    "nbc_search = GridSearchCV(nbc_pipeline, nbc_parameters, scoring=\"accuracy\", cv = 10, n_jobs=-1)"
   ]
  },
  {
   "cell_type": "markdown",
   "metadata": {},
   "source": [
    "###### 2. Fit the model"
   ]
  },
  {
   "cell_type": "code",
   "execution_count": 43,
   "metadata": {},
   "outputs": [],
   "source": [
    "nbc_best_model = nbc_search.fit(X_train_valid[categorical_features],y_train_valid)"
   ]
  },
  {
   "cell_type": "code",
   "execution_count": 44,
   "metadata": {},
   "outputs": [
    {
     "name": "stdout",
     "output_type": "stream",
     "text": [
      "The best value of alpha is: 1.5\n"
     ]
    }
   ],
   "source": [
    "print('The best value of alpha is: {}'.format(nbc_best_model.best_params_['categoricalnb__alpha']))"
   ]
  },
  {
   "cell_type": "markdown",
   "metadata": {},
   "source": [
    "###### 3. Calculate the classification accuracy on the test set"
   ]
  },
  {
   "cell_type": "code",
   "execution_count": 45,
   "metadata": {},
   "outputs": [
    {
     "name": "stdout",
     "output_type": "stream",
     "text": [
      "For Naïve Bayes using only categorical features, the accuracy on the test set is: 73.43%\n"
     ]
    }
   ],
   "source": [
    "print('For Naïve Bayes using only categorical features, the accuracy on the test set is: {:.2f}%'.format(np.mean(nbc_best_model.predict(X_test[categorical_features]) == y_test) * 100))"
   ]
  },
  {
   "cell_type": "markdown",
   "metadata": {},
   "source": [
    "#### Naïve Bayes Observations:\n",
    "* After tuning the alpha values, the best alpha value for mixed Naïve Bayes is 4.0 and for categorical Naïve Bayes is 1.5\n",
    "* Accuracy on the test set using only categorical features is slightly more that the mixed Naïve Bayes using both the numerical as well as categorical features.\n",
    "* Performance of Naïve Bayes classifier is less than the SVC."
   ]
  },
  {
   "cell_type": "markdown",
   "metadata": {},
   "source": [
    "### Model 3: Using Neural Network"
   ]
  },
  {
   "cell_type": "markdown",
   "metadata": {},
   "source": [
    "###### 1. Define the wrapper"
   ]
  },
  {
   "cell_type": "code",
   "execution_count": 46,
   "metadata": {},
   "outputs": [],
   "source": [
    "# Define the wrapper\n",
    "def build_model(input_dim=X_train_valid.shape[1], n_hidden = 1, n_neurons=1, activation='relu', optimizer='Adam'):\n",
    "    model = Sequential() # Model instantiation\n",
    "    options = {\"input_dim\": input_dim} # Setting the input dimensions\n",
    "    # iterate over layers to create various layers\n",
    "    for layer in range(n_hidden):\n",
    "        model.add(Dense(n_neurons, activation=activation, **options))\n",
    "        # Add dropout layer\n",
    "        if not layer == (n_hidden - 1):\n",
    "            model.add(Dropout(0.2))\n",
    "        options = {} # remove the input dimensions\n",
    "    # Add the output layer\n",
    "    model.add(Dense(1,activation='sigmoid'))\n",
    "    # Compile the model\n",
    "    model.compile(loss='binary_crossentropy', metrics=['accuracy'], optimizer= optimizer)\n",
    "    return model"
   ]
  },
  {
   "cell_type": "code",
   "execution_count": 47,
   "metadata": {},
   "outputs": [],
   "source": [
    "nn_classifier = tf.keras.wrappers.scikit_learn.KerasClassifier(build_model)"
   ]
  },
  {
   "cell_type": "markdown",
   "metadata": {},
   "source": [
    "###### 2. Early stopping"
   ]
  },
  {
   "cell_type": "code",
   "execution_count": 48,
   "metadata": {},
   "outputs": [],
   "source": [
    "# Employing early stopping, creating a callback method to use with the model.\n",
    "callback = tf.keras.callbacks.EarlyStopping(monitor = 'val_loss', patience = 5)"
   ]
  },
  {
   "cell_type": "markdown",
   "metadata": {},
   "source": [
    "###### 3. Define the parameters"
   ]
  },
  {
   "cell_type": "code",
   "execution_count": 49,
   "metadata": {},
   "outputs": [],
   "source": [
    "# Parameters.\n",
    "optimizer = ['SGD', 'Adam']\n",
    "activation = ['relu', 'tanh','sigmoid']\n",
    "neurons = [1, 5, 10, 15]\n",
    "hidden = [2,3,4]\n",
    "# Defining the grid to be used with GridSearchCV\n",
    "parameter_grid = {\n",
    "    'optimizer': optimizer,\n",
    "    'activation': activation,\n",
    "    'n_neurons': neurons,\n",
    "    'n_hidden': hidden\n",
    "}"
   ]
  },
  {
   "cell_type": "code",
   "execution_count": 50,
   "metadata": {},
   "outputs": [],
   "source": [
    "# Setting up GridSearchCV\n",
    "grid_cv = GridSearchCV(nn_classifier, parameter_grid, cv = 2, n_jobs=-1) "
   ]
  },
  {
   "cell_type": "markdown",
   "metadata": {},
   "source": [
    "###### 4. Fit the data"
   ]
  },
  {
   "cell_type": "code",
   "execution_count": 51,
   "metadata": {},
   "outputs": [
    {
     "name": "stdout",
     "output_type": "stream",
     "text": [
      "Epoch 1/50\n",
      "1417/1417 [==============================] - 4s 3ms/step - loss: 1.8092 - accuracy: 0.7052 - val_loss: 0.5637 - val_accuracy: 0.7513\n",
      "Epoch 2/50\n",
      "1417/1417 [==============================] - 1s 967us/step - loss: 0.6003 - accuracy: 0.7318 - val_loss: 0.6538 - val_accuracy: 0.64538 - accuracy: 0.73\n",
      "Epoch 3/50\n",
      "1417/1417 [==============================] - 1s 960us/step - loss: 0.5930 - accuracy: 0.7353 - val_loss: 0.5789 - val_accuracy: 0.7519\n",
      "Epoch 4/50\n",
      "1417/1417 [==============================] - 1s 968us/step - loss: 0.5848 - accuracy: 0.7392 - val_loss: 0.5513 - val_accuracy: 0.7525\n",
      "Epoch 5/50\n",
      "1417/1417 [==============================] - 1s 925us/step - loss: 0.5742 - accuracy: 0.7433 - val_loss: 0.5438 - val_accuracy: 0.7523\n",
      "Epoch 6/50\n",
      "1417/1417 [==============================] - 1s 928us/step - loss: 0.5721 - accuracy: 0.7439 - val_loss: 0.5691 - val_accuracy: 0.7524\n",
      "Epoch 7/50\n",
      "1417/1417 [==============================] - 1s 887us/step - loss: 0.5624 - accuracy: 0.7472 - val_loss: 0.5417 - val_accuracy: 0.7525\n",
      "Epoch 8/50\n",
      "1417/1417 [==============================] - 1s 858us/step - loss: 0.5594 - accuracy: 0.7475 - val_loss: 0.5594 - val_accuracy: 0.7526\n",
      "Epoch 9/50\n",
      "1417/1417 [==============================] - 1s 852us/step - loss: 0.5555 - accuracy: 0.7493 - val_loss: 0.5385 - val_accuracy: 0.7525\n",
      "Epoch 10/50\n",
      "1417/1417 [==============================] - 1s 855us/step - loss: 0.5518 - accuracy: 0.7509 - val_loss: 0.5394 - val_accuracy: 0.7529\n",
      "Epoch 11/50\n",
      "1417/1417 [==============================] - 1s 854us/step - loss: 0.5495 - accuracy: 0.7512 - val_loss: 0.5366 - val_accuracy: 0.7539\n",
      "Epoch 12/50\n",
      "1417/1417 [==============================] - 1s 851us/step - loss: 0.5487 - accuracy: 0.7512 - val_loss: 0.5422 - val_accuracy: 0.7528\n",
      "Epoch 13/50\n",
      "1417/1417 [==============================] - 1s 850us/step - loss: 0.5501 - accuracy: 0.7499 - val_loss: 0.5457 - val_accuracy: 0.7524\n",
      "Epoch 14/50\n",
      "1417/1417 [==============================] - 1s 842us/step - loss: 0.5527 - accuracy: 0.7502 - val_loss: 0.5439 - val_accuracy: 0.7526\n",
      "Epoch 15/50\n",
      "1417/1417 [==============================] - 1s 840us/step - loss: 0.5497 - accuracy: 0.7499 - val_loss: 0.5400 - val_accuracy: 0.7524\n",
      "Epoch 16/50\n",
      "1417/1417 [==============================] - 1s 828us/step - loss: 0.5502 - accuracy: 0.7504 - val_loss: 0.5404 - val_accuracy: 0.7524\n"
     ]
    },
    {
     "data": {
      "text/plain": [
       "GridSearchCV(cv=2,\n",
       "             estimator=<tensorflow.python.keras.wrappers.scikit_learn.KerasClassifier object at 0x7fd718295c10>,\n",
       "             n_jobs=-1,\n",
       "             param_grid={'activation': ['relu', 'tanh', 'sigmoid'],\n",
       "                         'n_hidden': [2, 3, 4], 'n_neurons': [1, 5, 10, 15],\n",
       "                         'optimizer': ['SGD', 'Adam']})"
      ]
     },
     "execution_count": 51,
     "metadata": {},
     "output_type": "execute_result"
    }
   ],
   "source": [
    "# Fit the model\n",
    "grid_cv.fit(X_train, y_train, epochs = 50, validation_data = (X_valid, y_valid), batch_size = 32, callbacks = callback)"
   ]
  },
  {
   "cell_type": "markdown",
   "metadata": {},
   "source": [
    "###### 5. Best parameters"
   ]
  },
  {
   "cell_type": "code",
   "execution_count": 52,
   "metadata": {},
   "outputs": [
    {
     "name": "stdout",
     "output_type": "stream",
     "text": [
      "The best parameters values are: \n",
      " activation function: relu                                       \n",
      " hidden layers: 2                                       \n",
      " number of neurons: 15                                       \n",
      " optimizer: Adam\n"
     ]
    }
   ],
   "source": [
    "print('The best parameters values are: \\n activation function: {}\\\n",
    "                                       \\n hidden layers: {}\\\n",
    "                                       \\n number of neurons: {}\\\n",
    "                                       \\n optimizer: {}'.format(grid_cv.best_params_['activation'],\\\n",
    "                                                                grid_cv.best_params_['n_hidden'],\\\n",
    "                                                                grid_cv.best_params_['n_neurons'],\\\n",
    "                                                                grid_cv.best_params_['optimizer']))"
   ]
  },
  {
   "cell_type": "markdown",
   "metadata": {},
   "source": [
    "###### 5. Refit the model"
   ]
  },
  {
   "cell_type": "code",
   "execution_count": 54,
   "metadata": {},
   "outputs": [],
   "source": [
    "nn_best_model = Sequential([\n",
    "    Dense(15, input_dim=X_train_valid.shape[1], activation='relu'),\n",
    "    Dropout(0.2),\n",
    "    Dense(15, activation='relu'),\n",
    "    Dense(1, activation='sigmoid')\n",
    "])\n",
    "nn_best_model.compile(optimizer=tf.keras.optimizers.Adam(learning_rate = 0.01),loss = 'binary_crossentropy', metrics = 'accuracy')"
   ]
  },
  {
   "cell_type": "code",
   "execution_count": 55,
   "metadata": {},
   "outputs": [
    {
     "name": "stdout",
     "output_type": "stream",
     "text": [
      "Model: \"sequential_1\"\n",
      "_________________________________________________________________\n",
      "Layer (type)                 Output Shape              Param #   \n",
      "=================================================================\n",
      "dense_3 (Dense)              (None, 15)                465       \n",
      "_________________________________________________________________\n",
      "dropout_1 (Dropout)          (None, 15)                0         \n",
      "_________________________________________________________________\n",
      "dense_4 (Dense)              (None, 15)                240       \n",
      "_________________________________________________________________\n",
      "dense_5 (Dense)              (None, 1)                 16        \n",
      "=================================================================\n",
      "Total params: 721\n",
      "Trainable params: 721\n",
      "Non-trainable params: 0\n",
      "_________________________________________________________________\n"
     ]
    }
   ],
   "source": [
    "nn_best_model.summary()"
   ]
  },
  {
   "cell_type": "code",
   "execution_count": 56,
   "metadata": {},
   "outputs": [],
   "source": [
    "# Employing early stopping, creating a callback method to use with the model.\n",
    "callback2 = tf.keras.callbacks.EarlyStopping(monitor = 'accuracy', patience = 5)"
   ]
  },
  {
   "cell_type": "code",
   "execution_count": 57,
   "metadata": {},
   "outputs": [
    {
     "name": "stdout",
     "output_type": "stream",
     "text": [
      "Epoch 1/50\n",
      "1771/1771 [==============================] - 1s 604us/step - loss: 1.1353 - accuracy: 0.7290\n",
      "Epoch 2/50\n",
      "1771/1771 [==============================] - 1s 604us/step - loss: 0.5607 - accuracy: 0.7507\n",
      "Epoch 3/50\n",
      "1771/1771 [==============================] - 1s 610us/step - loss: 0.5607 - accuracy: 0.7504\n",
      "Epoch 4/50\n",
      "1771/1771 [==============================] - 1s 617us/step - loss: 0.5619 - accuracy: 0.7506\n",
      "Epoch 5/50\n",
      "1771/1771 [==============================] - 1s 612us/step - loss: 0.5619 - accuracy: 0.7506\n",
      "Epoch 6/50\n",
      "1771/1771 [==============================] - 1s 629us/step - loss: 0.5619 - accuracy: 0.7506\n",
      "Epoch 7/50\n",
      "1771/1771 [==============================] - 1s 610us/step - loss: 0.5619 - accuracy: 0.7506\n"
     ]
    },
    {
     "data": {
      "text/plain": [
       "<tensorflow.python.keras.callbacks.History at 0x7fd719433c90>"
      ]
     },
     "execution_count": 57,
     "metadata": {},
     "output_type": "execute_result"
    }
   ],
   "source": [
    "nn_best_model.fit(X_train_valid,y_train_valid,epochs = 50,callbacks = callback2)"
   ]
  },
  {
   "cell_type": "markdown",
   "metadata": {},
   "source": [
    "###### 6. Calculate the classification accuracy on the test set"
   ]
  },
  {
   "cell_type": "code",
   "execution_count": 58,
   "metadata": {},
   "outputs": [
    {
     "name": "stdout",
     "output_type": "stream",
     "text": [
      "591/591 [==============================] - 0s 390us/step - loss: 0.5619 - accuracy: 0.7505\n"
     ]
    }
   ],
   "source": [
    "classifier_result = nn_best_model.evaluate(X_test, y_test)"
   ]
  },
  {
   "cell_type": "code",
   "execution_count": 59,
   "metadata": {},
   "outputs": [
    {
     "name": "stdout",
     "output_type": "stream",
     "text": [
      "The classification accuracy on the test set for NN model is: 75.05%\n"
     ]
    }
   ],
   "source": [
    "# Accuracy on test set\n",
    "print('The classification accuracy on the test set for NN model is: {:.2f}%'.format(classifier_result[1] * 100))"
   ]
  },
  {
   "cell_type": "markdown",
   "metadata": {},
   "source": [
    "### Model 4: Stacking"
   ]
  },
  {
   "cell_type": "markdown",
   "metadata": {},
   "source": [
    "###### 1. Define the classifiers with best parameters"
   ]
  },
  {
   "cell_type": "code",
   "execution_count": 60,
   "metadata": {},
   "outputs": [],
   "source": [
    "# SVC with best parameters\n",
    "svc_with_best_params = SVC(kernel='rbf', random_state=18,C=total_svc_pairs[bestK][0], gamma=total_svc_pairs[bestK][1])"
   ]
  },
  {
   "cell_type": "code",
   "execution_count": 61,
   "metadata": {},
   "outputs": [],
   "source": [
    "# MixedNB with best parameters.\n",
    "mixedNB_with_best_params = MixedNB(categorical_features=categorical_features_index,alpha=mixed_nb_alpha[bestK_mixedNB])"
   ]
  },
  {
   "cell_type": "code",
   "execution_count": 62,
   "metadata": {},
   "outputs": [],
   "source": [
    "# NN model with best parameters\n",
    "nn_model_with_best_params = Sequential([\n",
    "    Dense(15, input_dim=X_train_valid.shape[1], activation='relu'),\n",
    "    Dropout(0.2),\n",
    "    Dense(15, activation='relu'),\n",
    "    Dense(1, activation='sigmoid')\n",
    "])\n",
    "nn_model_with_best_params.compile(optimizer=tf.keras.optimizers.Adam(learning_rate = 0.01),loss = 'binary_crossentropy', metrics = 'accuracy')"
   ]
  },
  {
   "cell_type": "markdown",
   "metadata": {},
   "source": [
    "###### 2. Stacking model list + Blender"
   ]
  },
  {
   "cell_type": "code",
   "execution_count": 63,
   "metadata": {},
   "outputs": [],
   "source": [
    "# Stacking models\n",
    "stacking_models = {\n",
    "    'SVC':svc_with_best_params,\n",
    "    'MixedNB':mixedNB_with_best_params,\n",
    "    'NN':nn_model_with_best_params,\n",
    "}"
   ]
  },
  {
   "cell_type": "code",
   "execution_count": 64,
   "metadata": {},
   "outputs": [],
   "source": [
    "# Define the blender\n",
    "blender = LinearSVC()"
   ]
  },
  {
   "cell_type": "markdown",
   "metadata": {},
   "source": [
    "###### 3. Split the data to train weak learners and blender"
   ]
  },
  {
   "cell_type": "code",
   "execution_count": 65,
   "metadata": {},
   "outputs": [],
   "source": [
    "X_trainS1, X_trainS2, y_train1, y_train2 = train_test_split(X_train_valid, y_train_valid, test_size = 0.2, random_state = 18)"
   ]
  },
  {
   "cell_type": "markdown",
   "metadata": {},
   "source": [
    "###### 4. Train the learners"
   ]
  },
  {
   "cell_type": "code",
   "execution_count": 66,
   "metadata": {},
   "outputs": [
    {
     "name": "stdout",
     "output_type": "stream",
     "text": [
      "[11  2  6  5  5  6  2  4  8  9  5  5  2 25  6 11 10  6  5  4 12 31  7  5\n",
      "  8]\n",
      "1417/1417 [==============================] - 1s 614us/step - loss: 1.1716 - accuracy: 0.7326\n"
     ]
    }
   ],
   "source": [
    "# Train the learners\n",
    "for name, model in stacking_models.items():\n",
    "    model.fit(X_trainS1, y_train1)"
   ]
  },
  {
   "cell_type": "markdown",
   "metadata": {},
   "source": [
    "###### 5. Train the blender"
   ]
  },
  {
   "cell_type": "code",
   "execution_count": 67,
   "metadata": {},
   "outputs": [
    {
     "data": {
      "text/plain": [
       "LinearSVC()"
      ]
     },
     "execution_count": 67,
     "metadata": {},
     "output_type": "execute_result"
    }
   ],
   "source": [
    "# Train the blender\n",
    "# Get the prediction\n",
    "predictions = pd.DataFrame() # Set up a dataframe to store the predictions\n",
    "for name, model in stacking_models.items():\n",
    "    predictions[name] = model.predict(X_trainS2)\n",
    "\n",
    "# Get the blender\n",
    "scaler_blend = StandardScaler() # Scale the predictions for SVR\n",
    "predictions_scale = scaler_blend.fit_transform(predictions)\n",
    "blender.fit(predictions_scale, y_train2)"
   ]
  },
  {
   "cell_type": "markdown",
   "metadata": {},
   "source": [
    "###### 6. Calculate accuracy on the test set"
   ]
  },
  {
   "cell_type": "code",
   "execution_count": 68,
   "metadata": {},
   "outputs": [
    {
     "name": "stdout",
     "output_type": "stream",
     "text": [
      "Accuracy of the blender on the test set is: 75.05%\n"
     ]
    }
   ],
   "source": [
    "# Perform evaluation\n",
    "# First send the data through the weak learners\n",
    "predictions = pd.DataFrame() # Set up a dataframe to store the predictions\n",
    "for name, model in stacking_models.items():\n",
    "    predictions[name] = model.predict(X_test)\n",
    "    \n",
    "# Prediction through the blender, and evaluate\n",
    "predictions_scale = scaler_blend.transform(predictions)\n",
    "print('Accuracy of the blender on the test set is: {:.2f}%'.format(np.mean(blender.predict(predictions_scale) == y_test)*100))"
   ]
  },
  {
   "cell_type": "markdown",
   "metadata": {},
   "source": [
    "## IV. Summary\n",
    "* There are a total of 75550 rows and 33 columns in the original dataset. \n",
    "* Upon analysis we determined that there are 15 numerical features, out of them only 5 are continuous.  \n",
    "* We treated discrete numerical features as categorical features and label encoded them along with the categorical features, making total number of categorical features as 25.\n",
    "* From the list of features, we dropped Accident_Index and Datetime column as they were more of an identifier for the record, rather than an attribute.**\n",
    "* The entire dataset was divided using 60-15-25 (train/validation/test) split.\n",
    "* We created a total of 4 classifiers and also employed stacking ensemble method to build our classifiers.\n",
    "* The classification accuracy on the test set for both the SVC and NN classifier were comparable, with SVC marginally performing better.\n",
    "* Naïve Bayes classifiers, both mixed Naïve Bayes and Categorical Naïve Bayes accuracy was less than SVC and NN. However, Categorical Naïve Bayes performed slightly better than mixed Naïve Bayes which makes us think that the continuous features may not be useful predictors.\n",
    "* Stacking the classifiers, did not improve the accuracy on the classification set, which is obvious since the performance of individual classifiers is comparable or almost similar.\n",
    "* **We choose SVC model as our best model as it has the highest performance of 75.06% on the test set.**\n"
   ]
  },
  {
   "cell_type": "markdown",
   "metadata": {},
   "source": [
    "## V. Save Model"
   ]
  },
  {
   "cell_type": "markdown",
   "metadata": {},
   "source": [
    "###### 1. Save best SVC Model"
   ]
  },
  {
   "cell_type": "code",
   "execution_count": 69,
   "metadata": {},
   "outputs": [],
   "source": [
    "pickle.dump(svc_best_model, open( \"final_svc_best_model.pickle\", \"wb\" ))"
   ]
  },
  {
   "cell_type": "markdown",
   "metadata": {},
   "source": [
    "###### 2. Save best Mixed Naïve Bayes Model"
   ]
  },
  {
   "cell_type": "code",
   "execution_count": 70,
   "metadata": {},
   "outputs": [],
   "source": [
    "pickle.dump(mixedNB_best_model, open( \"final_mixedNB_best_model.pickle\", \"wb\" ))"
   ]
  },
  {
   "cell_type": "markdown",
   "metadata": {},
   "source": [
    "###### 3. Save best NN model"
   ]
  },
  {
   "cell_type": "code",
   "execution_count": 71,
   "metadata": {},
   "outputs": [
    {
     "name": "stdout",
     "output_type": "stream",
     "text": [
      "WARNING:tensorflow:From /opt/anaconda3/lib/python3.7/site-packages/tensorflow/python/training/tracking/tracking.py:111: Model.state_updates (from tensorflow.python.keras.engine.training) is deprecated and will be removed in a future version.\n",
      "Instructions for updating:\n",
      "This property should not be used in TensorFlow 2.0, as updates are applied automatically.\n",
      "WARNING:tensorflow:From /opt/anaconda3/lib/python3.7/site-packages/tensorflow/python/training/tracking/tracking.py:111: Layer.updates (from tensorflow.python.keras.engine.base_layer) is deprecated and will be removed in a future version.\n",
      "Instructions for updating:\n",
      "This property should not be used in TensorFlow 2.0, as updates are applied automatically.\n",
      "INFO:tensorflow:Assets written to: final_nn_best_model/assets\n"
     ]
    }
   ],
   "source": [
    "nn_best_model.save('final_nn_best_model') # using model.save method provided by tensorflow to save the model"
   ]
  },
  {
   "cell_type": "code",
   "execution_count": null,
   "metadata": {},
   "outputs": [],
   "source": []
  }
 ],
 "metadata": {
  "kernelspec": {
   "display_name": "Python 3",
   "language": "python",
   "name": "python3"
  },
  "language_info": {
   "codemirror_mode": {
    "name": "ipython",
    "version": 3
   },
   "file_extension": ".py",
   "mimetype": "text/x-python",
   "name": "python",
   "nbconvert_exporter": "python",
   "pygments_lexer": "ipython3",
   "version": "3.8.5"
  }
 },
 "nbformat": 4,
 "nbformat_minor": 4
}
